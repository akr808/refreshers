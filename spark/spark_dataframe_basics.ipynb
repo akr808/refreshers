{
  "cells": [
    {
      "cell_type": "code",
      "execution_count": 2,
      "id": "3b9923d0",
      "metadata": {
        "colab": {
          "base_uri": "https://localhost:8080/"
        },
        "id": "3b9923d0",
        "outputId": "13a9a751-9eb5-4a4d-d653-dcd619ff2199"
      },
      "outputs": [
        {
          "output_type": "stream",
          "name": "stdout",
          "text": [
            "Looking in indexes: https://pypi.org/simple, https://us-python.pkg.dev/colab-wheels/public/simple/\n",
            "Collecting pyspark\n",
            "  Downloading pyspark-3.3.2.tar.gz (281.4 MB)\n",
            "\u001b[2K     \u001b[90m━━━━━━━━━━━━━━━━━━━━━━━━━━━━━━━━━━━━━━━\u001b[0m \u001b[32m281.4/281.4 MB\u001b[0m \u001b[31m4.4 MB/s\u001b[0m eta \u001b[36m0:00:00\u001b[0m\n",
            "\u001b[?25h  Preparing metadata (setup.py) ... \u001b[?25l\u001b[?25hdone\n",
            "Collecting py4j==0.10.9.5\n",
            "  Downloading py4j-0.10.9.5-py2.py3-none-any.whl (199 kB)\n",
            "\u001b[2K     \u001b[90m━━━━━━━━━━━━━━━━━━━━━━━━━━━━━━━━━━━━━━\u001b[0m \u001b[32m199.7/199.7 KB\u001b[0m \u001b[31m21.5 MB/s\u001b[0m eta \u001b[36m0:00:00\u001b[0m\n",
            "\u001b[?25hBuilding wheels for collected packages: pyspark\n",
            "  Building wheel for pyspark (setup.py) ... \u001b[?25l\u001b[?25hdone\n",
            "  Created wheel for pyspark: filename=pyspark-3.3.2-py2.py3-none-any.whl size=281824028 sha256=75d76a09cf147d1825010f4d1ad2074b43505e489046ef02019078cc35851183\n",
            "  Stored in directory: /root/.cache/pip/wheels/6c/e3/9b/0525ce8a69478916513509d43693511463c6468db0de237c86\n",
            "Successfully built pyspark\n",
            "Installing collected packages: py4j, pyspark\n",
            "  Attempting uninstall: py4j\n",
            "    Found existing installation: py4j 0.10.9.7\n",
            "    Uninstalling py4j-0.10.9.7:\n",
            "      Successfully uninstalled py4j-0.10.9.7\n",
            "Successfully installed py4j-0.10.9.5 pyspark-3.3.2\n"
          ]
        }
      ],
      "source": [
        "!pip install pyspark"
      ]
    },
    {
      "cell_type": "code",
      "source": [
        "from pyspark.sql import SparkSession\n",
        "spark = SparkSession.builder.appName(\"TestApp\").master('local').getOrCreate()"
      ],
      "metadata": {
        "id": "XdoVQcjZo9mc"
      },
      "id": "XdoVQcjZo9mc",
      "execution_count": 3,
      "outputs": []
    },
    {
      "cell_type": "code",
      "execution_count": 4,
      "id": "c393172d",
      "metadata": {
        "colab": {
          "base_uri": "https://localhost:8080/",
          "height": 219
        },
        "id": "c393172d",
        "outputId": "c94dba73-7941-4a6b-b3ac-54a3317b9ae0"
      },
      "outputs": [
        {
          "output_type": "execute_result",
          "data": {
            "text/plain": [
              "<pyspark.sql.session.SparkSession at 0x7fae84d0f0d0>"
            ],
            "text/html": [
              "\n",
              "            <div>\n",
              "                <p><b>SparkSession - in-memory</b></p>\n",
              "                \n",
              "        <div>\n",
              "            <p><b>SparkContext</b></p>\n",
              "\n",
              "            <p><a href=\"http://36e65f41ec40:4040\">Spark UI</a></p>\n",
              "\n",
              "            <dl>\n",
              "              <dt>Version</dt>\n",
              "                <dd><code>v3.3.2</code></dd>\n",
              "              <dt>Master</dt>\n",
              "                <dd><code>local</code></dd>\n",
              "              <dt>AppName</dt>\n",
              "                <dd><code>TestApp</code></dd>\n",
              "            </dl>\n",
              "        </div>\n",
              "        \n",
              "            </div>\n",
              "        "
            ]
          },
          "metadata": {},
          "execution_count": 4
        }
      ],
      "source": [
        "spark"
      ]
    },
    {
      "cell_type": "code",
      "execution_count": 5,
      "id": "8bce5416",
      "metadata": {
        "colab": {
          "base_uri": "https://localhost:8080/"
        },
        "id": "8bce5416",
        "outputId": "a46ecb9b-6466-4162-f73f-c28289f09516"
      },
      "outputs": [
        {
          "output_type": "stream",
          "name": "stdout",
          "text": [
            "--2023-03-25 02:42:03--  https://raw.githubusercontent.com/akr808/refreshers/main/spark/spark_wine_data.csv\n",
            "Resolving raw.githubusercontent.com (raw.githubusercontent.com)... 185.199.108.133, 185.199.109.133, 185.199.110.133, ...\n",
            "Connecting to raw.githubusercontent.com (raw.githubusercontent.com)|185.199.108.133|:443... connected.\n",
            "HTTP request sent, awaiting response... 200 OK\n",
            "Length: 2905095 (2.8M) [text/plain]\n",
            "Saving to: ‘spark_wine_data.csv’\n",
            "\n",
            "spark_wine_data.csv 100%[===================>]   2.77M  --.-KB/s    in 0.08s   \n",
            "\n",
            "2023-03-25 02:42:04 (34.1 MB/s) - ‘spark_wine_data.csv’ saved [2905095/2905095]\n",
            "\n"
          ]
        }
      ],
      "source": [
        "!wget https://raw.githubusercontent.com/akr808/refreshers/main/spark/spark_wine_data.csv"
      ]
    },
    {
      "cell_type": "code",
      "execution_count": 7,
      "id": "63acf432",
      "metadata": {
        "id": "63acf432"
      },
      "outputs": [],
      "source": [
        "df = spark.read.csv('spark_wine_data.csv',inferSchema=True,header=True,sep=',')"
      ]
    },
    {
      "cell_type": "code",
      "execution_count": 8,
      "id": "f1607e59",
      "metadata": {
        "colab": {
          "base_uri": "https://localhost:8080/"
        },
        "id": "f1607e59",
        "outputId": "e72f6826-ddb4-4930-f751-7b851bee0275"
      },
      "outputs": [
        {
          "output_type": "stream",
          "name": "stdout",
          "text": [
            "root\n",
            " |-- country: string (nullable = true)\n",
            " |-- points: integer (nullable = true)\n",
            " |-- price: integer (nullable = true)\n",
            " |-- province: string (nullable = true)\n",
            "\n"
          ]
        }
      ],
      "source": [
        "df.printSchema()"
      ]
    },
    {
      "cell_type": "code",
      "execution_count": 9,
      "id": "35a7ee39",
      "metadata": {
        "colab": {
          "base_uri": "https://localhost:8080/"
        },
        "id": "35a7ee39",
        "outputId": "223d8c16-a088-4c60-ce28-a49932252ac9"
      },
      "outputs": [
        {
          "output_type": "stream",
          "name": "stdout",
          "text": [
            "+---------+------+-----+-----------------+\n",
            "|  country|points|price|         province|\n",
            "+---------+------+-----+-----------------+\n",
            "|    Italy|    87| null|Sicily & Sardinia|\n",
            "| Portugal|    87|   15|            Douro|\n",
            "|       US|    87|   14|           Oregon|\n",
            "|       US|    87|   13|         Michigan|\n",
            "|       US|    87|   65|           Oregon|\n",
            "|    Spain|    87|   15|   Northern Spain|\n",
            "|    Italy|    87|   16|Sicily & Sardinia|\n",
            "|   France|    87|   24|           Alsace|\n",
            "|  Germany|    87|   12|      Rheinhessen|\n",
            "|   France|    87|   27|           Alsace|\n",
            "|       US|    87|   19|       California|\n",
            "|   France|    87|   30|           Alsace|\n",
            "|       US|    87|   34|       California|\n",
            "|    Italy|    87| null|Sicily & Sardinia|\n",
            "|       US|    87|   12|       California|\n",
            "|  Germany|    87|   24|            Mosel|\n",
            "|Argentina|    87|   30|            Other|\n",
            "|Argentina|    87|   13| Mendoza Province|\n",
            "|    Spain|    87|   28|   Northern Spain|\n",
            "|       US|    87|   32|         Virginia|\n",
            "+---------+------+-----+-----------------+\n",
            "only showing top 20 rows\n",
            "\n"
          ]
        }
      ],
      "source": [
        "df.show()"
      ]
    },
    {
      "cell_type": "code",
      "execution_count": 10,
      "id": "921be9a9",
      "metadata": {
        "id": "921be9a9"
      },
      "outputs": [],
      "source": [
        "from pyspark.sql.functions import sum,avg,max,count\n",
        "from pyspark.sql.functions import col"
      ]
    },
    {
      "cell_type": "code",
      "execution_count": 11,
      "id": "eef9c945",
      "metadata": {
        "colab": {
          "base_uri": "https://localhost:8080/"
        },
        "id": "eef9c945",
        "outputId": "e2b41f55-246f-4f7c-f79c-9f2865f035af"
      },
      "outputs": [
        {
          "output_type": "stream",
          "name": "stdout",
          "text": [
            "+--------------------+----------+-----------------+------------------+\n",
            "|             country|Sum_Points|       Avg_Points|         Avg_Price|\n",
            "+--------------------+----------+-----------------+------------------+\n",
            "|              Turkey|      7928|88.08888888888889|24.633333333333333|\n",
            "|             Germany|    194529|89.85173210161663| 42.25754716981132|\n",
            "|              France|   1962855|88.84510931064138|41.139120162016205|\n",
            "|              Greece|     40674|87.28326180257511|22.364425162689805|\n",
            "|            Slovakia|        87|             87.0|              16.0|\n",
            "|                null|      5584|88.63492063492063|24.593220338983052|\n",
            "|           Argentina|    329499|86.71026315789474|24.510117145899894|\n",
            "|                Peru|      1337|          83.5625|           18.0625|\n",
            "|               India|       812|90.22222222222223|13.333333333333334|\n",
            "|               China|        89|             89.0|              18.0|\n",
            "|               Chile|    386799| 86.4935152057245|20.786458333333332|\n",
            "|             Croatia|      6367|87.21917808219177|25.450704225352112|\n",
            "|               Italy|   1730506|88.56223132036847|39.663769658271256|\n",
            "|               Spain|    580031|87.28833709556058|28.215274608245853|\n",
            "|                  US|   4827077|88.56372009393806|  36.5734635584631|\n",
            "|             Morocco|      2480|88.57142857142857|              19.5|\n",
            "|             Ukraine|      1177|84.07142857142857| 9.214285714285714|\n",
            "|              Israel|     44678|88.47128712871287|31.768916155419223|\n",
            "|              Cyprus|       959|87.18181818181819|16.272727272727273|\n",
            "|             Uruguay|      9456|86.75229357798165| 26.40366972477064|\n",
            "|              Mexico|      5968|85.25714285714285|26.785714285714285|\n",
            "|             Georgia|      7541|87.68604651162791|19.321428571428573|\n",
            "|             Armenia|       175|             87.5|              14.5|\n",
            "|         Switzerland|       620|88.57142857142857| 85.28571428571429|\n",
            "|              Canada|     22968|89.36964980544747| 35.71259842519685|\n",
            "|           Macedonia|      1042|86.83333333333333|15.583333333333334|\n",
            "|      Czech Republic|      1047|            87.25|             24.25|\n",
            "|              Brazil|      4403|84.67307692307692| 23.76595744680851|\n",
            "|             Lebanon|      3069|87.68571428571428|30.685714285714287|\n",
            "|            Slovenia|      7662|88.06896551724138|           24.8125|\n",
            "|          Luxembourg|       532|88.66666666666667|23.333333333333332|\n",
            "|         New Zealand|    125302| 88.3030303030303| 26.93178519593614|\n",
            "|             England|      6777|91.58108108108108| 51.68115942028985|\n",
            "|Bosnia and Herzeg...|       173|             86.5|              12.5|\n",
            "|            Portugal|    502232|88.25021964505359| 26.21825641025641|\n",
            "|           Australia|    206304|88.58050665521684| 35.43766346992153|\n",
            "|             Romania|     10368|             86.4|15.241666666666667|\n",
            "|            Bulgaria|     12399|87.93617021276596|14.645390070921986|\n",
            "|             Austria|    301389|90.10134529147982| 30.76277241872097|\n",
            "|               Egypt|        84|             84.0|              null|\n",
            "|              Serbia|      1050|             87.5|              24.5|\n",
            "|        South Africa|    123367|88.05638829407566|24.668986852281517|\n",
            "|             Hungary|     13022| 89.1917808219178|40.648275862068964|\n",
            "|             Moldova|      5145|87.20338983050847| 16.74576271186441|\n",
            "+--------------------+----------+-----------------+------------------+\n",
            "\n"
          ]
        }
      ],
      "source": [
        "df.groupBy('country').agg(sum('points').alias(\"Sum_Points\"),avg('points').alias(\"Avg_Points\"), avg('price').alias('Avg_Price')).show(50)"
      ]
    },
    {
      "cell_type": "code",
      "execution_count": 12,
      "id": "afb6b550",
      "metadata": {
        "colab": {
          "base_uri": "https://localhost:8080/"
        },
        "id": "afb6b550",
        "outputId": "1c5e7a5f-74d1-40ad-c561-10280540705a"
      },
      "outputs": [
        {
          "output_type": "stream",
          "name": "stdout",
          "text": [
            "+---------+------------------+----------+\n",
            "|  country|          province|Sum_Points|\n",
            "+---------+------------------+----------+\n",
            "|       US|        California|   3212491|\n",
            "|       US|        Washington|    768415|\n",
            "|   France|          Bordeaux|    526723|\n",
            "|    Italy|           Tuscany|    525273|\n",
            "|       US|            Oregon|    478476|\n",
            "|   France|          Burgundy|    356486|\n",
            "|    Spain|    Northern Spain|    336643|\n",
            "|    Italy|          Piedmont|    333883|\n",
            "|Argentina|  Mendoza Province|    283402|\n",
            "|    Italy|            Veneto|    238234|\n",
            "|       US|          New York|    234336|\n",
            "|   France|            Alsace|    218068|\n",
            "|    Italy|Northeastern Italy|    188135|\n",
            "|   France|      Loire Valley|    164244|\n",
            "|    Italy| Sicily & Sardinia|    158332|\n",
            "|   France|         Champagne|    145549|\n",
            "|   France|  Southwest France|    133177|\n",
            "|Australia|   South Australia|    120112|\n",
            "|   France|          Provence|    118731|\n",
            "|    Italy|    Southern Italy|    118494|\n",
            "+---------+------------------+----------+\n",
            "only showing top 20 rows\n",
            "\n"
          ]
        }
      ],
      "source": [
        "df.groupBy('country','province').agg(sum('points').alias(\"Sum_Points\")).orderBy(col('Sum_Points').desc(),col('country').asc()).show()"
      ]
    },
    {
      "cell_type": "code",
      "execution_count": 13,
      "id": "eebe46bf",
      "metadata": {
        "colab": {
          "base_uri": "https://localhost:8080/"
        },
        "id": "eebe46bf",
        "outputId": "6e982592-4a7e-4096-a54e-a10958e14d5b"
      },
      "outputs": [
        {
          "output_type": "stream",
          "name": "stdout",
          "text": [
            "+-------+---------+------------------+------------------+--------+\n",
            "|summary|  country|            points|             price|province|\n",
            "+-------+---------+------------------+------------------+--------+\n",
            "|  count|   129908|            129971|            120975|  129908|\n",
            "|   mean|     null| 88.44713820775404|35.363389129985535|    null|\n",
            "| stddev|     null|3.0397302029160067|41.022217668087315|    null|\n",
            "|    min|Argentina|                80|                 4|  Achaia|\n",
            "|    max|  Uruguay|               100|              3300|    Župa|\n",
            "+-------+---------+------------------+------------------+--------+\n",
            "\n"
          ]
        }
      ],
      "source": [
        "df.describe().show()"
      ]
    }
  ],
  "metadata": {
    "kernelspec": {
      "display_name": "Python 3 (ipykernel)",
      "language": "python",
      "name": "python3"
    },
    "language_info": {
      "codemirror_mode": {
        "name": "ipython",
        "version": 3
      },
      "file_extension": ".py",
      "mimetype": "text/x-python",
      "name": "python",
      "nbconvert_exporter": "python",
      "pygments_lexer": "ipython3",
      "version": "3.10.9"
    },
    "colab": {
      "provenance": []
    }
  },
  "nbformat": 4,
  "nbformat_minor": 5
}